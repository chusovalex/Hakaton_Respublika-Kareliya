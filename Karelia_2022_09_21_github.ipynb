{
 "cells": [
  {
   "cell_type": "markdown",
   "metadata": {},
   "source": [
    "# Прогнозирование оттока пользователей провайдера телекоммуникационных услуг"
   ]
  },
  {
   "cell_type": "markdown",
   "metadata": {},
   "source": [
    "**Введение:**\n",
    "\n",
    "Сфера телекоммуникаций — высококонкурентная динамичная среда, в которой уровень осведомленности пользователей позволяет легко получить информацию о других поставщиках услуг с аналогичным или наиболее высоким качеством по более выгодной цене. Отсюда и возникает проблема оттока пользователей.\n",
    "\n",
    "Для любого провайдера важным аспектом является пользовательская база. В нее поступают новые пользователи, какое-то время активно потребляют услуги и через некоторый промежуток времени перестают, этот промежуток называется «жизненный цикл клиента». Отток пользователей выражается в сокращении пользовательской базы и снижении показателей выручки.\n",
    "\n",
    "\n",
    "**Цель задачи:**\n",
    "\n",
    "Создать свое решение по прогнозированию оттока с использованием данных о клиентах. В нашем доступе находится информация о запросах пользователей к сайтам конкурентов и история обращений в компанию.\n",
    "\n",
    "В качестве метрики выступает Recall по столбцу blocked."
   ]
  },
  {
   "cell_type": "markdown",
   "metadata": {
    "toc": true
   },
   "source": [
    "<h1>Содержание<span class=\"tocSkip\"></span></h1>\n",
    "<div class=\"toc\"><ul class=\"toc-item\"><li><span><a href=\"#Загрузим-нужные-библиотеки\" data-toc-modified-id=\"Загрузим-нужные-библиотеки-1\"><span class=\"toc-item-num\">1&nbsp;&nbsp;</span>Загрузим нужные библиотеки</a></span></li><li><span><a href=\"#Рассмотрим-датасет-по-ближе\" data-toc-modified-id=\"Рассмотрим-датасет-по-ближе-2\"><span class=\"toc-item-num\">2&nbsp;&nbsp;</span>Рассмотрим датасет по ближе</a></span><ul class=\"toc-item\"><li><span><a href=\"#df_train\" data-toc-modified-id=\"df_train-2.1\"><span class=\"toc-item-num\">2.1&nbsp;&nbsp;</span>df_train</a></span></li><li><span><a href=\"#df_named\" data-toc-modified-id=\"df_named-2.2\"><span class=\"toc-item-num\">2.2&nbsp;&nbsp;</span>df_named</a></span></li><li><span><a href=\"#df_type_contract\" data-toc-modified-id=\"df_type_contract-2.3\"><span class=\"toc-item-num\">2.3&nbsp;&nbsp;</span>df_type_contract</a></span></li><li><span><a href=\"#df_log\" data-toc-modified-id=\"df_log-2.4\"><span class=\"toc-item-num\">2.4&nbsp;&nbsp;</span>df_log</a></span></li><li><span><a href=\"#Объединение-таблиц\" data-toc-modified-id=\"Объединение-таблиц-2.5\"><span class=\"toc-item-num\">2.5&nbsp;&nbsp;</span>Объединение таблиц</a></span></li><li><span><a href=\"#Проверка-на-мультиколлинеарность\" data-toc-modified-id=\"Проверка-на-мультиколлинеарность-2.6\"><span class=\"toc-item-num\">2.6&nbsp;&nbsp;</span>Проверка на мультиколлинеарность</a></span></li></ul></li><li><span><a href=\"#Выделим-выборки\" data-toc-modified-id=\"Выделим-выборки-3\"><span class=\"toc-item-num\">3&nbsp;&nbsp;</span>Выделим выборки</a></span><ul class=\"toc-item\"><li><span><a href=\"#обучающая-выборка\" data-toc-modified-id=\"обучающая-выборка-3.1\"><span class=\"toc-item-num\">3.1&nbsp;&nbsp;</span>обучающая выборка</a></span></li><li><span><a href=\"#категоризация-OrdinalEncoder\" data-toc-modified-id=\"категоризация-OrdinalEncoder-3.2\"><span class=\"toc-item-num\">3.2&nbsp;&nbsp;</span>категоризация OrdinalEncoder</a></span></li><li><span><a href=\"#тестовая-выборка\" data-toc-modified-id=\"тестовая-выборка-3.3\"><span class=\"toc-item-num\">3.3&nbsp;&nbsp;</span>тестовая выборка</a></span></li></ul></li><li><span><a href=\"#Обучение-моделей\" data-toc-modified-id=\"Обучение-моделей-4\"><span class=\"toc-item-num\">4&nbsp;&nbsp;</span>Обучение моделей</a></span><ul class=\"toc-item\"><li><span><a href=\"#CatBoost\" data-toc-modified-id=\"CatBoost-4.1\"><span class=\"toc-item-num\">4.1&nbsp;&nbsp;</span>CatBoost</a></span></li></ul></li><li><span><a href=\"#Подготовка-результатов\" data-toc-modified-id=\"Подготовка-результатов-5\"><span class=\"toc-item-num\">5&nbsp;&nbsp;</span>Подготовка результатов</a></span><ul class=\"toc-item\"><li><span><a href=\"#предсказание-на-тесте\" data-toc-modified-id=\"предсказание-на-тесте-5.1\"><span class=\"toc-item-num\">5.1&nbsp;&nbsp;</span>предсказание на тесте</a></span></li><li><span><a href=\"#запись-в-файл\" data-toc-modified-id=\"запись-в-файл-5.2\"><span class=\"toc-item-num\">5.2&nbsp;&nbsp;</span>запись в файл</a></span></li></ul></li></ul></div>"
   ]
  },
  {
   "cell_type": "markdown",
   "metadata": {
    "id": "FH0ZYdNyQzug"
   },
   "source": [
    "## Загрузим нужные библиотеки"
   ]
  },
  {
   "cell_type": "code",
   "execution_count": 1,
   "metadata": {
    "id": "BwNGqMidQiRi"
   },
   "outputs": [],
   "source": [
    "import itertools\n",
    "import matplotlib.pyplot as plt\n",
    "import numpy as np\n",
    "import os\n",
    "import pandas as pd\n",
    "import re\n",
    "import seaborn as sns\n",
    "import time\n",
    "import warnings\n",
    "\n",
    "from catboost import CatBoostClassifier\n",
    "from scipy import stats\n",
    "from sklearn.feature_selection import RFECV\n",
    "from sklearn.linear_model import LogisticRegression\n",
    "from sklearn.metrics import make_scorer\n",
    "from sklearn.metrics import recall_score\n",
    "from sklearn.model_selection import cross_val_score\n",
    "from sklearn.model_selection import GridSearchCV\n",
    "from sklearn.pipeline import Pipeline\n",
    "from sklearn.preprocessing import OrdinalEncoder"
   ]
  },
  {
   "cell_type": "code",
   "execution_count": 2,
   "metadata": {},
   "outputs": [],
   "source": [
    "warnings.filterwarnings('ignore')"
   ]
  },
  {
   "cell_type": "code",
   "execution_count": 3,
   "metadata": {},
   "outputs": [],
   "source": [
    "pd.options.display.max_colwidth = 1000\n",
    "pd.set_option('display.max_columns', 500)"
   ]
  },
  {
   "cell_type": "markdown",
   "metadata": {
    "id": "GywlangPRAEm"
   },
   "source": [
    "## Рассмотрим датасет по ближе"
   ]
  },
  {
   "cell_type": "markdown",
   "metadata": {},
   "source": [
    "### df_train"
   ]
  },
  {
   "cell_type": "code",
   "execution_count": 4,
   "metadata": {},
   "outputs": [],
   "source": [
    "# train — файл содержащий данные пользователей для тренировки. blocked 1 - клиент ушел\n",
    "df_train = pd.read_csv(\"datasets/Karelia_train_dataset.csv\")"
   ]
  },
  {
   "cell_type": "code",
   "execution_count": 5,
   "metadata": {
    "colab": {
     "base_uri": "https://localhost:8080/",
     "height": 143
    },
    "id": "gvcl_K3FQ-os",
    "outputId": "60b23c0d-9d87-493c-9f1e-8fbb6b53f79c"
   },
   "outputs": [
    {
     "name": "stdout",
     "output_type": "stream",
     "text": [
      "<class 'pandas.core.frame.DataFrame'>\n",
      "RangeIndex: 5992 entries, 0 to 5991\n",
      "Data columns (total 2 columns):\n",
      " #   Column       Non-Null Count  Dtype\n",
      "---  ------       --------------  -----\n",
      " 0   contract_id  5992 non-null   int64\n",
      " 1   blocked      5992 non-null   int64\n",
      "dtypes: int64(2)\n",
      "memory usage: 93.8 KB\n"
     ]
    }
   ],
   "source": [
    "df_train.info()"
   ]
  },
  {
   "cell_type": "markdown",
   "metadata": {},
   "source": [
    "Посмотрим на распределение целевого признака"
   ]
  },
  {
   "cell_type": "code",
   "execution_count": 6,
   "metadata": {},
   "outputs": [
    {
     "data": {
      "image/png": "[encoded data removed]",
      "text/plain": [
       "<Figure size 400x300 with 1 Axes>"
      ]
     },
     "metadata": {},
     "output_type": "display_data"
    }
   ],
   "source": [
    "plt.figure(figsize=(4,3))\n",
    "sns.countplot(x=\"blocked\", data=df_train).set_title('Распределение целевого признака')\n",
    "plt.show()"
   ]
  },
  {
   "cell_type": "markdown",
   "metadata": {},
   "source": [
    "### df_named"
   ]
  },
  {
   "cell_type": "code",
   "execution_count": 7,
   "metadata": {},
   "outputs": [],
   "source": [
    "# df_named - лог днс-запросов к доменам конкурентов (rt.ru и sampo.ru)\n",
    "df_named = pd.read_csv(\"datasets/Karelia_named.csv\")"
   ]
  },
  {
   "cell_type": "code",
   "execution_count": 8,
   "metadata": {},
   "outputs": [
    {
     "name": "stdout",
     "output_type": "stream",
     "text": [
      "<class 'pandas.core.frame.DataFrame'>\n",
      "RangeIndex: 10646537 entries, 0 to 10646536\n",
      "Data columns (total 3 columns):\n",
      " #   Column       Dtype \n",
      "---  ------       ----- \n",
      " 0   date         object\n",
      " 1   url          object\n",
      " 2   contract_id  int64 \n",
      "dtypes: int64(1), object(2)\n",
      "memory usage: 243.7+ MB\n"
     ]
    }
   ],
   "source": [
    "df_named.info()"
   ]
  },
  {
   "cell_type": "code",
   "execution_count": 9,
   "metadata": {},
   "outputs": [
    {
     "data": {
      "text/plain": [
       "date               36\n",
       "url              6583\n",
       "contract_id    196148\n",
       "dtype: int64"
      ]
     },
     "execution_count": 9,
     "metadata": {},
     "output_type": "execute_result"
    }
   ],
   "source": [
    "df_named.nunique()"
   ]
  },
  {
   "cell_type": "code",
   "execution_count": 10,
   "metadata": {
    "colab": {
     "base_uri": "https://localhost:8080/",
     "height": 143
    },
    "id": "zb9qIPOq4I-0",
    "outputId": "66b49abb-11d3-4e18-c14b-dcdef4396882"
   },
   "outputs": [
    {
     "data": {
      "text/html": [
       "<div>\n",
       "<style scoped>\n",
       "    .dataframe tbody tr th:only-of-type {\n",
       "        vertical-align: middle;\n",
       "    }\n",
       "\n",
       "    .dataframe tbody tr th {\n",
       "        vertical-align: top;\n",
       "    }\n",
       "\n",
       "    .dataframe thead th {\n",
       "        text-align: right;\n",
       "    }\n",
       "</style>\n",
       "<table border=\"1\" class=\"dataframe\">\n",
       "  <thead>\n",
       "    <tr style=\"text-align: right;\">\n",
       "      <th></th>\n",
       "      <th>date</th>\n",
       "      <th>url</th>\n",
       "      <th>contract_id</th>\n",
       "    </tr>\n",
       "  </thead>\n",
       "  <tbody>\n",
       "    <tr>\n",
       "      <th>0</th>\n",
       "      <td>17-Apr-2021</td>\n",
       "      <td>webmail.sampo.ru</td>\n",
       "      <td>101397</td>\n",
       "    </tr>\n",
       "    <tr>\n",
       "      <th>1</th>\n",
       "      <td>17-Apr-2021</td>\n",
       "      <td>webmail.sampo.ru</td>\n",
       "      <td>179624</td>\n",
       "    </tr>\n",
       "    <tr>\n",
       "      <th>2</th>\n",
       "      <td>17-Apr-2021</td>\n",
       "      <td>tvip-provision.sampo.ru</td>\n",
       "      <td>190335</td>\n",
       "    </tr>\n",
       "  </tbody>\n",
       "</table>\n",
       "</div>"
      ],
      "text/plain": [
       "          date                      url  contract_id\n",
       "0  17-Apr-2021         webmail.sampo.ru       101397\n",
       "1  17-Apr-2021         webmail.sampo.ru       179624\n",
       "2  17-Apr-2021  tvip-provision.sampo.ru       190335"
      ]
     },
     "execution_count": 10,
     "metadata": {},
     "output_type": "execute_result"
    }
   ],
   "source": [
    "df_named.head(3)"
   ]
  },
  {
   "cell_type": "code",
   "execution_count": 11,
   "metadata": {},
   "outputs": [
    {
     "data": {
      "text/html": [
       "<div>\n",
       "<style scoped>\n",
       "    .dataframe tbody tr th:only-of-type {\n",
       "        vertical-align: middle;\n",
       "    }\n",
       "\n",
       "    .dataframe tbody tr th {\n",
       "        vertical-align: top;\n",
       "    }\n",
       "\n",
       "    .dataframe thead th {\n",
       "        text-align: right;\n",
       "    }\n",
       "</style>\n",
       "<table border=\"1\" class=\"dataframe\">\n",
       "  <thead>\n",
       "    <tr style=\"text-align: right;\">\n",
       "      <th></th>\n",
       "      <th>log_count</th>\n",
       "    </tr>\n",
       "    <tr>\n",
       "      <th>url</th>\n",
       "      <th></th>\n",
       "    </tr>\n",
       "  </thead>\n",
       "  <tbody>\n",
       "    <tr>\n",
       "      <th>camera.rt.ru</th>\n",
       "      <td>7333195</td>\n",
       "    </tr>\n",
       "    <tr>\n",
       "      <th>vmxott.svc.iptv.rt.ru</th>\n",
       "      <td>289876</td>\n",
       "    </tr>\n",
       "    <tr>\n",
       "      <th>tvip-provision.sampo.ru</th>\n",
       "      <td>138944</td>\n",
       "    </tr>\n",
       "    <tr>\n",
       "      <th>webmail.sampo.ru</th>\n",
       "      <td>132718</td>\n",
       "    </tr>\n",
       "    <tr>\n",
       "      <th>statserv.sampo.ru</th>\n",
       "      <td>110428</td>\n",
       "    </tr>\n",
       "    <tr>\n",
       "      <th>...</th>\n",
       "      <td>...</td>\n",
       "    </tr>\n",
       "    <tr>\n",
       "      <th>keyastromgate.rt.ru</th>\n",
       "      <td>5187</td>\n",
       "    </tr>\n",
       "    <tr>\n",
       "      <th>643378.16.rt.ru</th>\n",
       "      <td>5134</td>\n",
       "    </tr>\n",
       "    <tr>\n",
       "      <th>425128.16.rt.ru</th>\n",
       "      <td>5054</td>\n",
       "    </tr>\n",
       "    <tr>\n",
       "      <th>tracker.sampo.ru</th>\n",
       "      <td>5014</td>\n",
       "    </tr>\n",
       "    <tr>\n",
       "      <th>cm-webapi.rt.ru</th>\n",
       "      <td>4934</td>\n",
       "    </tr>\n",
       "  </tbody>\n",
       "</table>\n",
       "<p>100 rows × 1 columns</p>\n",
       "</div>"
      ],
      "text/plain": [
       "                         log_count\n",
       "url                               \n",
       "camera.rt.ru               7333195\n",
       "vmxott.svc.iptv.rt.ru       289876\n",
       "tvip-provision.sampo.ru     138944\n",
       "webmail.sampo.ru            132718\n",
       "statserv.sampo.ru           110428\n",
       "...                            ...\n",
       "keyastromgate.rt.ru           5187\n",
       "643378.16.rt.ru               5134\n",
       "425128.16.rt.ru               5054\n",
       "tracker.sampo.ru              5014\n",
       "cm-webapi.rt.ru               4934\n",
       "\n",
       "[100 rows x 1 columns]"
      ]
     },
     "execution_count": 11,
     "metadata": {},
     "output_type": "execute_result"
    }
   ],
   "source": [
    "#группировка по url\n",
    "df_named_groupby_url = (\n",
    "    df_named\n",
    "    .groupby('url')\n",
    "    .agg(log_count=('date','count'))\n",
    "    .sort_values(by='log_count', ascending=False)\n",
    "    .head(100)\n",
    ")\n",
    "df_named_groupby_url"
   ]
  },
  {
   "cell_type": "code",
   "execution_count": 12,
   "metadata": {},
   "outputs": [],
   "source": [
    "#100 важных url\n",
    "url_100_imp = df_named_groupby_url.index.to_list()"
   ]
  },
  {
   "cell_type": "code",
   "execution_count": 13,
   "metadata": {},
   "outputs": [],
   "source": [
    "for url in url_100_imp:\n",
    "    df_named[url] = (df_named['url']== url)*1"
   ]
  },
  {
   "cell_type": "code",
   "execution_count": 14,
   "metadata": {},
   "outputs": [],
   "source": [
    "def my_func(col):\n",
    "    if sum(col) > 0:\n",
    "        return '1'\n",
    "    else:\n",
    "        return '0'"
   ]
  },
  {
   "cell_type": "markdown",
   "metadata": {},
   "source": [
    "Добавим каждому клиенту бинарных признаков: посещал ли он каждый из ТОП100 по посещаемости сайтов"
   ]
  },
  {
   "cell_type": "code",
   "execution_count": 15,
   "metadata": {},
   "outputs": [
    {
     "name": "stdout",
     "output_type": "stream",
     "text": [
      "CPU times: user 4min 50s, sys: 14.1 s, total: 5min 5s\n",
      "Wall time: 5min 6s\n"
     ]
    }
   ],
   "source": [
    "%%time\n",
    "df_named_groupby = (\n",
    "    df_named\n",
    "    .drop(columns=['date', 'url'])\n",
    "    .groupby('contract_id').agg(my_func)\n",
    ")"
   ]
  },
  {
   "cell_type": "code",
   "execution_count": 16,
   "metadata": {},
   "outputs": [
    {
     "data": {
      "text/plain": [
       "(196148, 100)"
      ]
     },
     "execution_count": 16,
     "metadata": {},
     "output_type": "execute_result"
    }
   ],
   "source": [
    "df_named_groupby.shape"
   ]
  },
  {
   "cell_type": "markdown",
   "metadata": {},
   "source": [
    "### df_type_contract"
   ]
  },
  {
   "cell_type": "code",
   "execution_count": 17,
   "metadata": {},
   "outputs": [],
   "source": [
    "# df_type_contract.csv - тип списания у пользователей. 1 - посуточная\n",
    "df_type_contract = pd.read_csv(\"datasets/Karelia_type_contract.csv\")"
   ]
  },
  {
   "cell_type": "code",
   "execution_count": 18,
   "metadata": {
    "colab": {
     "base_uri": "https://localhost:8080/",
     "height": 143
    },
    "id": "ih0T_woR4bhP",
    "outputId": "3e2e9333-6f2f-4506-d014-ddeff5151de9",
    "scrolled": false
   },
   "outputs": [
    {
     "data": {
      "text/html": [
       "<div>\n",
       "<style scoped>\n",
       "    .dataframe tbody tr th:only-of-type {\n",
       "        vertical-align: middle;\n",
       "    }\n",
       "\n",
       "    .dataframe tbody tr th {\n",
       "        vertical-align: top;\n",
       "    }\n",
       "\n",
       "    .dataframe thead th {\n",
       "        text-align: right;\n",
       "    }\n",
       "</style>\n",
       "<table border=\"1\" class=\"dataframe\">\n",
       "  <thead>\n",
       "    <tr style=\"text-align: right;\">\n",
       "      <th></th>\n",
       "      <th>contract_id</th>\n",
       "      <th>day_or_month_contract</th>\n",
       "    </tr>\n",
       "  </thead>\n",
       "  <tbody>\n",
       "    <tr>\n",
       "      <th>0</th>\n",
       "      <td>7780</td>\n",
       "      <td>0</td>\n",
       "    </tr>\n",
       "    <tr>\n",
       "      <th>1</th>\n",
       "      <td>3996</td>\n",
       "      <td>0</td>\n",
       "    </tr>\n",
       "    <tr>\n",
       "      <th>2</th>\n",
       "      <td>7785</td>\n",
       "      <td>0</td>\n",
       "    </tr>\n",
       "    <tr>\n",
       "      <th>3</th>\n",
       "      <td>7794</td>\n",
       "      <td>0</td>\n",
       "    </tr>\n",
       "    <tr>\n",
       "      <th>4</th>\n",
       "      <td>7795</td>\n",
       "      <td>1</td>\n",
       "    </tr>\n",
       "  </tbody>\n",
       "</table>\n",
       "</div>"
      ],
      "text/plain": [
       "   contract_id  day_or_month_contract\n",
       "0         7780                      0\n",
       "1         3996                      0\n",
       "2         7785                      0\n",
       "3         7794                      0\n",
       "4         7795                      1"
      ]
     },
     "execution_count": 18,
     "metadata": {},
     "output_type": "execute_result"
    }
   ],
   "source": [
    "df_type_contract.head()"
   ]
  },
  {
   "cell_type": "code",
   "execution_count": 19,
   "metadata": {
    "scrolled": true
   },
   "outputs": [
    {
     "data": {
      "text/plain": [
       "5"
      ]
     },
     "execution_count": 19,
     "metadata": {},
     "output_type": "execute_result"
    }
   ],
   "source": [
    "df_type_contract.duplicated().sum()"
   ]
  },
  {
   "cell_type": "code",
   "execution_count": 20,
   "metadata": {},
   "outputs": [],
   "source": [
    "df_type_contract = df_type_contract.drop_duplicates(subset=['contract_id'],ignore_index=True)"
   ]
  },
  {
   "cell_type": "code",
   "execution_count": 21,
   "metadata": {},
   "outputs": [
    {
     "data": {
      "text/plain": [
       "contract_id              6800\n",
       "day_or_month_contract       2\n",
       "dtype: int64"
      ]
     },
     "execution_count": 21,
     "metadata": {},
     "output_type": "execute_result"
    }
   ],
   "source": [
    "df_type_contract.nunique()"
   ]
  },
  {
   "cell_type": "code",
   "execution_count": 22,
   "metadata": {},
   "outputs": [
    {
     "data": {
      "text/plain": [
       "0    4017\n",
       "1    2783\n",
       "Name: day_or_month_contract, dtype: int64"
      ]
     },
     "execution_count": 22,
     "metadata": {},
     "output_type": "execute_result"
    }
   ],
   "source": [
    "df_type_contract['day_or_month_contract'].value_counts()"
   ]
  },
  {
   "cell_type": "markdown",
   "metadata": {},
   "source": [
    "### df_log"
   ]
  },
  {
   "cell_type": "code",
   "execution_count": 23,
   "metadata": {},
   "outputs": [],
   "source": [
    "# log — содержит данные обращения пользователей\n",
    "df_log = pd.read_csv(\"datasets/Karelia_log.csv\")"
   ]
  },
  {
   "cell_type": "code",
   "execution_count": 24,
   "metadata": {
    "colab": {
     "base_uri": "https://localhost:8080/",
     "height": 143
    },
    "id": "jE8r6sYMUB6w",
    "outputId": "66a03108-6d34-4ff8-d255-6a5cffa28eba",
    "scrolled": false
   },
   "outputs": [
    {
     "data": {
      "text/html": [
       "<div>\n",
       "<style scoped>\n",
       "    .dataframe tbody tr th:only-of-type {\n",
       "        vertical-align: middle;\n",
       "    }\n",
       "\n",
       "    .dataframe tbody tr th {\n",
       "        vertical-align: top;\n",
       "    }\n",
       "\n",
       "    .dataframe thead th {\n",
       "        text-align: right;\n",
       "    }\n",
       "</style>\n",
       "<table border=\"1\" class=\"dataframe\">\n",
       "  <thead>\n",
       "    <tr style=\"text-align: right;\">\n",
       "      <th></th>\n",
       "      <th>contract_id</th>\n",
       "      <th>event_date</th>\n",
       "      <th>event_type</th>\n",
       "    </tr>\n",
       "  </thead>\n",
       "  <tbody>\n",
       "    <tr>\n",
       "      <th>0</th>\n",
       "      <td>36294</td>\n",
       "      <td>2021-03-28 16:24:30</td>\n",
       "      <td>Добавление в Обращались с номеров</td>\n",
       "    </tr>\n",
       "    <tr>\n",
       "      <th>1</th>\n",
       "      <td>36294</td>\n",
       "      <td>2021-03-28 16:27:41</td>\n",
       "      <td>Обращение в службу заботы о клиентах</td>\n",
       "    </tr>\n",
       "    <tr>\n",
       "      <th>2</th>\n",
       "      <td>36294</td>\n",
       "      <td>2021-03-28 16:29:56</td>\n",
       "      <td>Выключение IPTV-пакета</td>\n",
       "    </tr>\n",
       "    <tr>\n",
       "      <th>3</th>\n",
       "      <td>36294</td>\n",
       "      <td>2021-03-28 16:29:56</td>\n",
       "      <td>Включение IPTV-пакета</td>\n",
       "    </tr>\n",
       "    <tr>\n",
       "      <th>4</th>\n",
       "      <td>36294</td>\n",
       "      <td>2021-03-28 16:35:04</td>\n",
       "      <td>Обращение в службу заботы о клиентах</td>\n",
       "    </tr>\n",
       "  </tbody>\n",
       "</table>\n",
       "</div>"
      ],
      "text/plain": [
       "   contract_id           event_date                            event_type\n",
       "0        36294  2021-03-28 16:24:30     Добавление в Обращались с номеров\n",
       "1        36294  2021-03-28 16:27:41  Обращение в службу заботы о клиентах\n",
       "2        36294  2021-03-28 16:29:56                Выключение IPTV-пакета\n",
       "3        36294  2021-03-28 16:29:56                 Включение IPTV-пакета\n",
       "4        36294  2021-03-28 16:35:04  Обращение в службу заботы о клиентах"
      ]
     },
     "execution_count": 24,
     "metadata": {},
     "output_type": "execute_result"
    }
   ],
   "source": [
    "df_log.head()"
   ]
  },
  {
   "cell_type": "code",
   "execution_count": 25,
   "metadata": {},
   "outputs": [
    {
     "data": {
      "text/plain": [
       "contract_id     4311\n",
       "event_date     24906\n",
       "event_type       105\n",
       "dtype: int64"
      ]
     },
     "execution_count": 25,
     "metadata": {},
     "output_type": "execute_result"
    }
   ],
   "source": [
    "df_log.nunique()"
   ]
  },
  {
   "cell_type": "code",
   "execution_count": 26,
   "metadata": {
    "scrolled": true
   },
   "outputs": [
    {
     "name": "stdout",
     "output_type": "stream",
     "text": [
      "<class 'pandas.core.frame.DataFrame'>\n",
      "RangeIndex: 25274 entries, 0 to 25273\n",
      "Data columns (total 3 columns):\n",
      " #   Column       Non-Null Count  Dtype \n",
      "---  ------       --------------  ----- \n",
      " 0   contract_id  25274 non-null  int64 \n",
      " 1   event_date   25274 non-null  object\n",
      " 2   event_type   25274 non-null  object\n",
      "dtypes: int64(1), object(2)\n",
      "memory usage: 592.5+ KB\n"
     ]
    }
   ],
   "source": [
    "df_log.info()"
   ]
  },
  {
   "cell_type": "code",
   "execution_count": 27,
   "metadata": {},
   "outputs": [],
   "source": [
    "df_log['event_type'] = df_log['event_type'].str.lower().str.replace(' ', '_')"
   ]
  },
  {
   "cell_type": "code",
   "execution_count": 28,
   "metadata": {},
   "outputs": [],
   "source": [
    "for event_type_unique in df_log['event_type'].unique():\n",
    "    df_log[event_type_unique] = df_log['event_type'].str.contains(event_type_unique)*1"
   ]
  },
  {
   "cell_type": "markdown",
   "metadata": {},
   "source": [
    "Добавим каждому клиенту бинарных признаков: обращался ли он в службу поддержки с конкретным сообщением"
   ]
  },
  {
   "cell_type": "code",
   "execution_count": 29,
   "metadata": {},
   "outputs": [],
   "source": [
    "def my_func(col):\n",
    "    if sum(col) > 0:\n",
    "        return '1'\n",
    "    else:\n",
    "        return '0'"
   ]
  },
  {
   "cell_type": "code",
   "execution_count": 30,
   "metadata": {},
   "outputs": [
    {
     "name": "stdout",
     "output_type": "stream",
     "text": [
      "CPU times: user 3.36 s, sys: 41.4 ms, total: 3.4 s\n",
      "Wall time: 3.4 s\n"
     ]
    }
   ],
   "source": [
    "%%time\n",
    "df_log_groupby = (\n",
    "    df_log\n",
    "    .drop(columns=['event_date', 'event_type'])\n",
    "    .groupby('contract_id').agg(my_func)\n",
    ")"
   ]
  },
  {
   "cell_type": "markdown",
   "metadata": {
    "id": "ws9AgKjiA7Jd"
   },
   "source": [
    "### Объединение таблиц"
   ]
  },
  {
   "cell_type": "markdown",
   "metadata": {
    "id": "96OuAK1rBBTK"
   },
   "source": [
    "Обьединим наборы с данными"
   ]
  },
  {
   "cell_type": "code",
   "execution_count": 31,
   "metadata": {
    "colab": {
     "base_uri": "https://localhost:8080/",
     "height": 143
    },
    "id": "SsXefQu_558z",
    "outputId": "321a435b-6ddd-41cd-f109-7901d2b00421"
   },
   "outputs": [],
   "source": [
    "df_train = pd.merge(df_train, df_type_contract, on='contract_id', how='left').drop_duplicates(subset='contract_id')\n",
    "df_train = pd.merge(df_train, df_log_groupby , on='contract_id', how='left')\n",
    "df_train = pd.merge(df_train, df_named_groupby , on='contract_id', how='left')"
   ]
  },
  {
   "cell_type": "code",
   "execution_count": 32,
   "metadata": {
    "colab": {
     "base_uri": "https://localhost:8080/"
    },
    "id": "xXiblk7K6qPy",
    "outputId": "a5158860-c87d-4117-c205-ddc17e2ddfa8"
   },
   "outputs": [
    {
     "name": "stdout",
     "output_type": "stream",
     "text": [
      "<class 'pandas.core.frame.DataFrame'>\n",
      "Int64Index: 5992 entries, 0 to 5991\n",
      "Columns: 208 entries, contract_id to cm-webapi.rt.ru\n",
      "dtypes: float64(1), int64(2), object(205)\n",
      "memory usage: 9.6+ MB\n"
     ]
    }
   ],
   "source": [
    "df_train.info()"
   ]
  },
  {
   "cell_type": "code",
   "execution_count": 33,
   "metadata": {},
   "outputs": [],
   "source": [
    "def na_stat(df):\n",
    "    \"\"\"\n",
    "    функция подсчета количества и процента пропущенных значений\n",
    "    \n",
    "    \"\"\"\n",
    "    df_na_stat = pd.concat([df.isna().sum(), df.isna().mean().map('{:.2%}'.format)], axis=1)\n",
    "    df_na_stat = df_na_stat[df_na_stat[0] != 0]\n",
    "    df_na_stat.columns = ['количество пропущенных значений', 'процент пропущенных значений']\n",
    "    return df_na_stat.sort_values(by='количество пропущенных значений', ascending=False)"
   ]
  },
  {
   "cell_type": "code",
   "execution_count": 34,
   "metadata": {
    "scrolled": false
   },
   "outputs": [
    {
     "data": {
      "text/html": [
       "<div>\n",
       "<style scoped>\n",
       "    .dataframe tbody tr th:only-of-type {\n",
       "        vertical-align: middle;\n",
       "    }\n",
       "\n",
       "    .dataframe tbody tr th {\n",
       "        vertical-align: top;\n",
       "    }\n",
       "\n",
       "    .dataframe thead th {\n",
       "        text-align: right;\n",
       "    }\n",
       "</style>\n",
       "<table border=\"1\" class=\"dataframe\">\n",
       "  <thead>\n",
       "    <tr style=\"text-align: right;\">\n",
       "      <th></th>\n",
       "      <th>количество пропущенных значений</th>\n",
       "      <th>процент пропущенных значений</th>\n",
       "    </tr>\n",
       "  </thead>\n",
       "  <tbody>\n",
       "    <tr>\n",
       "      <th>cm-webapi.rt.ru</th>\n",
       "      <td>3077</td>\n",
       "      <td>51.35%</td>\n",
       "    </tr>\n",
       "    <tr>\n",
       "      <th>sz-mrsk-itv01.svc.iptv.rt.ru</th>\n",
       "      <td>3077</td>\n",
       "      <td>51.35%</td>\n",
       "    </tr>\n",
       "    <tr>\n",
       "      <th>ohrana.sampo.ru</th>\n",
       "      <td>3077</td>\n",
       "      <td>51.35%</td>\n",
       "    </tr>\n",
       "    <tr>\n",
       "      <th>vhod.sampo.ru</th>\n",
       "      <td>3077</td>\n",
       "      <td>51.35%</td>\n",
       "    </tr>\n",
       "    <tr>\n",
       "      <th>sz-spbr-itv01.svc.iptv.rt.ru</th>\n",
       "      <td>3077</td>\n",
       "      <td>51.35%</td>\n",
       "    </tr>\n",
       "    <tr>\n",
       "      <th>...</th>\n",
       "      <td>...</td>\n",
       "      <td>...</td>\n",
       "    </tr>\n",
       "    <tr>\n",
       "      <th>просмотр_раздела_тайный_покупатель</th>\n",
       "      <td>2183</td>\n",
       "      <td>36.43%</td>\n",
       "    </tr>\n",
       "    <tr>\n",
       "      <th>включение_интернета_на_20_минут_с_ivr</th>\n",
       "      <td>2183</td>\n",
       "      <td>36.43%</td>\n",
       "    </tr>\n",
       "    <tr>\n",
       "      <th>турбокнопка_платно_(1_час)</th>\n",
       "      <td>2183</td>\n",
       "      <td>36.43%</td>\n",
       "    </tr>\n",
       "    <tr>\n",
       "      <th>включение_автоматической_активации_гп</th>\n",
       "      <td>2183</td>\n",
       "      <td>36.43%</td>\n",
       "    </tr>\n",
       "    <tr>\n",
       "      <th>day_or_month_contract</th>\n",
       "      <td>2</td>\n",
       "      <td>0.03%</td>\n",
       "    </tr>\n",
       "  </tbody>\n",
       "</table>\n",
       "<p>206 rows × 2 columns</p>\n",
       "</div>"
      ],
      "text/plain": [
       "                                       количество пропущенных значений  \\\n",
       "cm-webapi.rt.ru                                                   3077   \n",
       "sz-mrsk-itv01.svc.iptv.rt.ru                                      3077   \n",
       "ohrana.sampo.ru                                                   3077   \n",
       "vhod.sampo.ru                                                     3077   \n",
       "sz-spbr-itv01.svc.iptv.rt.ru                                      3077   \n",
       "...                                                                ...   \n",
       "просмотр_раздела_тайный_покупатель                                2183   \n",
       "включение_интернета_на_20_минут_с_ivr                             2183   \n",
       "турбокнопка_платно_(1_час)                                        2183   \n",
       "включение_автоматической_активации_гп                             2183   \n",
       "day_or_month_contract                                                2   \n",
       "\n",
       "                                      процент пропущенных значений  \n",
       "cm-webapi.rt.ru                                             51.35%  \n",
       "sz-mrsk-itv01.svc.iptv.rt.ru                                51.35%  \n",
       "ohrana.sampo.ru                                             51.35%  \n",
       "vhod.sampo.ru                                               51.35%  \n",
       "sz-spbr-itv01.svc.iptv.rt.ru                                51.35%  \n",
       "...                                                            ...  \n",
       "просмотр_раздела_тайный_покупатель                          36.43%  \n",
       "включение_интернета_на_20_минут_с_ivr                       36.43%  \n",
       "турбокнопка_платно_(1_час)                                  36.43%  \n",
       "включение_автоматической_активации_гп                       36.43%  \n",
       "day_or_month_contract                                        0.03%  \n",
       "\n",
       "[206 rows x 2 columns]"
      ]
     },
     "execution_count": 34,
     "metadata": {},
     "output_type": "execute_result"
    }
   ],
   "source": [
    "na_stat(df_train)"
   ]
  },
  {
   "cell_type": "code",
   "execution_count": 35,
   "metadata": {
    "id": "pgmgFqen62Rh"
   },
   "outputs": [],
   "source": [
    "# Заменим пропуски на нули\n",
    "df_train = df_train.fillna('2')\n",
    "# df_train = df_train.fillna('no_information')"
   ]
  },
  {
   "cell_type": "markdown",
   "metadata": {},
   "source": [
    "### Проверка на мультиколлинеарность"
   ]
  },
  {
   "cell_type": "code",
   "execution_count": 36,
   "metadata": {},
   "outputs": [
    {
     "data": {
      "text/plain": [
       "207"
      ]
     },
     "execution_count": 36,
     "metadata": {},
     "output_type": "execute_result"
    }
   ],
   "source": [
    "cat_features = df_train.drop(['contract_id'], axis=1).columns.to_list()\n",
    "len(cat_features)"
   ]
  },
  {
   "cell_type": "code",
   "execution_count": 37,
   "metadata": {
    "colab": {
     "base_uri": "https://localhost:8080/",
     "height": 850
    },
    "id": "TwtfWDihUyvT",
    "outputId": "f1e92969-51cc-4f0e-8b59-a0db98378256",
    "scrolled": false
   },
   "outputs": [],
   "source": [
    "def cramer_v(df, feature1, feature2, bias_correction=True):\n",
    "    tab = pd.crosstab(df[feature1], df[feature2])\n",
    "    chi2 = stats.chi2_contingency(tab)[0]\n",
    "    n = tab.to_numpy().sum()\n",
    "    phi2 = chi2 / n\n",
    "    k, r = tab.shape\n",
    "    if bias_correction:\n",
    "        phi2 = max(0, phi2 - (k - 1) * (r - 1) / (n - 1))\n",
    "        k = k - (k - 1)**2 / (n - 1)\n",
    "        r = r - (r - 1)**2 / (n - 1)\n",
    "    v = np.sqrt(phi2 / min(k-1, r-1))\n",
    "    return(v)\n",
    "\n",
    "def cramer_matrix(df, features, bias_correction=True):\n",
    "    n = len(features)\n",
    "    data = np.ones([n, n])\n",
    "    for i, j in itertools.combinations(range(n), 2):\n",
    "        data[i, j] = cramer_v(df, features[i], features[j], bias_correction)\n",
    "        data[j, i] = data[i, j]\n",
    "    df_cramer = pd.DataFrame(data, index=features, columns=features)\n",
    "    return df_cramer"
   ]
  },
  {
   "cell_type": "code",
   "execution_count": 38,
   "metadata": {},
   "outputs": [
    {
     "name": "stdout",
     "output_type": "stream",
     "text": [
      "CPU times: user 2min 30s, sys: 5.68 s, total: 2min 36s\n",
      "Wall time: 2min 36s\n"
     ]
    }
   ],
   "source": [
    "%%time\n",
    "df_cramer = cramer_matrix(df_train, cat_features)"
   ]
  },
  {
   "cell_type": "code",
   "execution_count": 39,
   "metadata": {},
   "outputs": [
    {
     "data": {
      "text/plain": [
       "blocked                                    1.000000\n",
       "отключение_услуги_аренда_тв-приставки      0.217387\n",
       "statserv.sampo.ru                          0.199268\n",
       "kino.sampo.ru                              0.198401\n",
       "navigator.sampo.ru                         0.198252\n",
       "                                             ...   \n",
       "состояние_клиентского_оборудования         0.099196\n",
       "абонент_оставил_отзыв_в_личном_кабинете    0.099193\n",
       "тайный_покупатель._отправлена_анкета       0.099190\n",
       "изменение_контактных_телефонов             0.099190\n",
       "day_or_month_contract                      0.000000\n",
       "Name: blocked, Length: 207, dtype: float64"
      ]
     },
     "execution_count": 39,
     "metadata": {},
     "output_type": "execute_result"
    }
   ],
   "source": [
    "df_cramer['blocked'].sort_values(ascending=False)"
   ]
  },
  {
   "cell_type": "markdown",
   "metadata": {},
   "source": [
    "Выделим важные признаки в `cat_features_important`"
   ]
  },
  {
   "cell_type": "code",
   "execution_count": 40,
   "metadata": {},
   "outputs": [
    {
     "data": {
      "text/plain": [
       "205"
      ]
     },
     "execution_count": 40,
     "metadata": {},
     "output_type": "execute_result"
    }
   ],
   "source": [
    "cat_features_important = df_cramer[df_cramer['blocked'] > 0]['blocked'].index.to_list()\n",
    "cat_features_important.remove('blocked')\n",
    "len(cat_features_important)"
   ]
  },
  {
   "cell_type": "markdown",
   "metadata": {
    "id": "870l_9AGdTvF"
   },
   "source": [
    "## Выделим выборки"
   ]
  },
  {
   "cell_type": "markdown",
   "metadata": {},
   "source": [
    "### обучающая выборка"
   ]
  },
  {
   "cell_type": "code",
   "execution_count": 41,
   "metadata": {},
   "outputs": [
    {
     "data": {
      "text/plain": [
       "(5992, 205)"
      ]
     },
     "execution_count": 41,
     "metadata": {},
     "output_type": "execute_result"
    }
   ],
   "source": [
    "y_train = df_train[\"blocked\"].values.ravel()\n",
    "X_train = df_train[cat_features_important]\n",
    "X_train.shape"
   ]
  },
  {
   "cell_type": "markdown",
   "metadata": {},
   "source": [
    "### категоризация OrdinalEncoder"
   ]
  },
  {
   "cell_type": "code",
   "execution_count": 42,
   "metadata": {},
   "outputs": [],
   "source": [
    "cat_list = ['0','1','2']\n",
    "categories = []\n",
    "for i in range(205):\n",
    "    categories.append(cat_list)"
   ]
  },
  {
   "cell_type": "code",
   "execution_count": 43,
   "metadata": {},
   "outputs": [],
   "source": [
    "ord_enc = OrdinalEncoder(categories=categories)\n",
    "X_train[cat_features_important] = ord_enc.fit_transform(X_train[cat_features_important])"
   ]
  },
  {
   "cell_type": "markdown",
   "metadata": {},
   "source": [
    "### тестовая выборка"
   ]
  },
  {
   "cell_type": "code",
   "execution_count": 44,
   "metadata": {},
   "outputs": [],
   "source": [
    "df_sample_solution = pd.read_csv(\"datasets/Karelia_sample_solution.csv\")"
   ]
  },
  {
   "cell_type": "code",
   "execution_count": 45,
   "metadata": {},
   "outputs": [],
   "source": [
    "df_test = df_sample_solution['contract_id']"
   ]
  },
  {
   "cell_type": "code",
   "execution_count": 46,
   "metadata": {},
   "outputs": [
    {
     "data": {
      "text/plain": [
       "(810,)"
      ]
     },
     "execution_count": 46,
     "metadata": {},
     "output_type": "execute_result"
    }
   ],
   "source": [
    "df_test.shape"
   ]
  },
  {
   "cell_type": "code",
   "execution_count": 47,
   "metadata": {},
   "outputs": [
    {
     "data": {
      "image/png": "[encoded data removed]",
      "text/plain": [
       "<Figure size 1000x200 with 1 Axes>"
      ]
     },
     "metadata": {},
     "output_type": "display_data"
    }
   ],
   "source": [
    "plt.figure(figsize=(10,2))\n",
    "plt.plot(df_train['contract_id'], np.ones(df_train.shape[0]), 'o', c='green', label='train contract_id')\n",
    "plt.plot(df_test, np.zeros(df_test.shape[0]), 'o', c='blue', label='test contract_id')\n",
    "plt.title('Train and Test ID')\n",
    "plt.yticks([])\n",
    "plt.xticks(rotation=90)\n",
    "plt.legend(loc='center right')\n",
    "plt.show()"
   ]
  },
  {
   "cell_type": "code",
   "execution_count": 48,
   "metadata": {},
   "outputs": [],
   "source": [
    "#объединение таблиц\n",
    "df_test = pd.merge(df_test, df_type_contract , on=\"contract_id\", how='left').drop_duplicates(subset=\"contract_id\")\n",
    "df_test = pd.merge(df_test, df_log_groupby , on=\"contract_id\", how='left')\n",
    "df_test = pd.merge(df_test, df_named_groupby , on=\"contract_id\", how='left')"
   ]
  },
  {
   "cell_type": "code",
   "execution_count": 49,
   "metadata": {},
   "outputs": [],
   "source": [
    "#заполнение пропусков нулями\n",
    "df_test = df_test.fillna('2')\n",
    "# df_test = df_test.fillna('no_information')"
   ]
  },
  {
   "cell_type": "code",
   "execution_count": 50,
   "metadata": {},
   "outputs": [
    {
     "data": {
      "text/plain": [
       "(810, 205)"
      ]
     },
     "execution_count": 50,
     "metadata": {},
     "output_type": "execute_result"
    }
   ],
   "source": [
    "# ВАЖНЫЕ признаки\n",
    "X_test = df_test[cat_features_important]\n",
    "X_test.shape"
   ]
  },
  {
   "cell_type": "code",
   "execution_count": 51,
   "metadata": {},
   "outputs": [],
   "source": [
    "X_test[cat_features_important] = ord_enc.transform(X_test[cat_features_important])"
   ]
  },
  {
   "cell_type": "markdown",
   "metadata": {
    "id": "wWOMlu5megED"
   },
   "source": [
    "## Обучение моделей"
   ]
  },
  {
   "cell_type": "markdown",
   "metadata": {},
   "source": [
    "Зафиксируем параметр псевдослучайности для наших моделей и выборок:"
   ]
  },
  {
   "cell_type": "code",
   "execution_count": 52,
   "metadata": {},
   "outputs": [],
   "source": [
    "rnd_st = 12345"
   ]
  },
  {
   "cell_type": "markdown",
   "metadata": {},
   "source": [
    "Напишем функцию `grid_search_func` для проведения поиска по решетке, вывода лучших параметров модели и метрики. Функция будет возвращать лучший оценщик"
   ]
  },
  {
   "cell_type": "code",
   "execution_count": 53,
   "metadata": {},
   "outputs": [],
   "source": [
    "recall = make_scorer(recall_score , average='macro')"
   ]
  },
  {
   "cell_type": "code",
   "execution_count": 54,
   "metadata": {},
   "outputs": [],
   "source": [
    "def grid_search_func(model, parameters, features_train, target_train):\n",
    "    \"\"\"\n",
    "    model - модель\n",
    "    param_grid - параметры для поиска по решетке\n",
    "    features_train - входные признаки обучающая выборка\n",
    "    target_train - входные признаки тестовая выборка\n",
    "    \n",
    "    \"\"\"\n",
    "    gs = GridSearchCV(estimator=model, \n",
    "                      param_grid=parameters, \n",
    "                      scoring=recall, \n",
    "                      cv=7, \n",
    "                      verbose=0)\n",
    "    gs.fit(features_train, target_train)\n",
    "    gs_best_estimator = gs.best_estimator_\n",
    "    print('Best parameters:', gs.best_params_)\n",
    "    print('Best recall = %.4f' % abs(gs.best_score_))\n",
    "    return gs_best_estimator"
   ]
  },
  {
   "cell_type": "markdown",
   "metadata": {},
   "source": [
    "### CatBoost"
   ]
  },
  {
   "cell_type": "code",
   "execution_count": 55,
   "metadata": {},
   "outputs": [],
   "source": [
    "cat_pipe = Pipeline([\n",
    "    ('cl', CatBoostClassifier(verbose=False,\n",
    "                              loss_function='Logloss', \n",
    "                              random_state=rnd_st))\n",
    "])\n",
    "\n",
    "parameters = {\n",
    "    'cl__learning_rate': [0.05, 0.1, 0.15],\n",
    "    'cl__max_depth': [2],\n",
    "    'cl__iterations': [200],\n",
    "    'cl__auto_class_weights': ['Balanced', 'None'],\n",
    "    'cl__l2_leaf_reg': [1, 3, 5],\n",
    "}"
   ]
  },
  {
   "cell_type": "code",
   "execution_count": 56,
   "metadata": {},
   "outputs": [
    {
     "name": "stdout",
     "output_type": "stream",
     "text": [
      "Best parameters: {'cl__auto_class_weights': 'Balanced', 'cl__iterations': 200, 'cl__l2_leaf_reg': 3, 'cl__learning_rate': 0.1, 'cl__max_depth': 2}\n",
      "Best recall = 0.6996\n",
      "CPU times: user 5min 42s, sys: 12.3 s, total: 5min 54s\n",
      "Wall time: 34.3 s\n"
     ]
    }
   ],
   "source": [
    "%%time\n",
    "cat_best_gs = grid_search_func(cat_pipe, parameters, X_train, y_train)"
   ]
  },
  {
   "cell_type": "markdown",
   "metadata": {},
   "source": [
    "## Подготовка результатов"
   ]
  },
  {
   "cell_type": "markdown",
   "metadata": {},
   "source": [
    "### предсказание на тесте"
   ]
  },
  {
   "cell_type": "code",
   "execution_count": 57,
   "metadata": {
    "id": "m1g031fzexib",
    "scrolled": true
   },
   "outputs": [
    {
     "data": {
      "text/plain": [
       "0    596\n",
       "1    214\n",
       "dtype: int64"
      ]
     },
     "execution_count": 57,
     "metadata": {},
     "output_type": "execute_result"
    }
   ],
   "source": [
    "predictions = pd.Series(cat_best_gs.predict(X_test))\n",
    "predictions.value_counts()"
   ]
  },
  {
   "cell_type": "markdown",
   "metadata": {},
   "source": [
    "### запись в файл"
   ]
  },
  {
   "cell_type": "code",
   "execution_count": 58,
   "metadata": {},
   "outputs": [],
   "source": [
    "df_sample_solution['blocked'] = predictions\n",
    "df_sample_solution.to_csv(\"datasets/Karelia_sample_solution.csv\", index=False)"
   ]
  }
 ],
 "metadata": {
  "colab": {
   "name": "Ситилинк_baseline.ipynb",
   "provenance": []
  },
  "kernelspec": {
   "display_name": "Python 3 (ipykernel)",
   "language": "python",
   "name": "python3"
  },
  "language_info": {
   "codemirror_mode": {
    "name": "ipython",
    "version": 3
   },
   "file_extension": ".py",
   "mimetype": "text/x-python",
   "name": "python",
   "nbconvert_exporter": "python",
   "pygments_lexer": "ipython3",
   "version": "3.9.13"
  },
  "toc": {
   "base_numbering": 1,
   "nav_menu": {},
   "number_sections": true,
   "sideBar": true,
   "skip_h1_title": true,
   "title_cell": "Содержание",
   "title_sidebar": "Содержание",
   "toc_cell": true,
   "toc_position": {
    "height": "calc(100% - 180px)",
    "left": "10px",
    "top": "150px",
    "width": "418.1065979003906px"
   },
   "toc_section_display": true,
   "toc_window_display": true
  }
 },
 "nbformat": 4,
 "nbformat_minor": 1
}
